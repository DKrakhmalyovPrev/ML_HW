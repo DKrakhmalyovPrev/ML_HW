{
 "cells": [
  {
   "cell_type": "code",
   "execution_count": 1,
   "metadata": {
    "collapsed": true
   },
   "outputs": [],
   "source": [
    "import pandas as pd\n",
    "import numpy as np\n",
    "import vowpalwabbit as vw\n",
    "from sklearn import model_selection, metrics, linear_model, svm\n",
    "from sklearn.feature_extraction.text import FeatureHasher, TfidfVectorizer, TfidfTransformer, CountVectorizer\n",
    "import sklearn.pipeline as pipe\n",
    "import re"
   ]
  },
  {
   "cell_type": "code",
   "execution_count": 2,
   "metadata": {
    "collapsed": true
   },
   "outputs": [],
   "source": [
    "train = pd.read_csv('Data - ФИВТ МФТИ - Линейные модели, часть 1_ фамилии _ Kaggle in Class.txt', header=None)\n",
    "test = pd.read_csv('Data - ФИВТ МФТИ - Линейные модели, часть 1_ фамилии _ Kaggle in Class (2).txt', header=None)\n",
    "\n",
    "data = train.append(test, ignore_index=True)\n",
    "import scipy.sparse as ss"
   ]
  },
  {
   "cell_type": "code",
   "execution_count": 3,
   "metadata": {
    "collapsed": true
   },
   "outputs": [],
   "source": [
    "def clear(s):\n",
    "    s = s.decode('utf-8')\n",
    "    pt = re.compile('\\W+', re.UNICODE)\n",
    "    s = re.sub(pt,'', s)\n",
    "    return s"
   ]
  },
  {
   "cell_type": "code",
   "execution_count": 4,
   "metadata": {},
   "outputs": [
    {
     "data": {
      "text/html": [
       "<div>\n",
       "<table border=\"1\" class=\"dataframe\">\n",
       "  <thead>\n",
       "    <tr style=\"text-align: right;\">\n",
       "      <th></th>\n",
       "      <th>0</th>\n",
       "    </tr>\n",
       "  </thead>\n",
       "  <tbody>\n",
       "    <tr>\n",
       "      <th>0</th>\n",
       "      <td>Аалто</td>\n",
       "    </tr>\n",
       "    <tr>\n",
       "      <th>1</th>\n",
       "      <td>ААР</td>\n",
       "    </tr>\n",
       "    <tr>\n",
       "      <th>2</th>\n",
       "      <td>Аара</td>\n",
       "    </tr>\n",
       "    <tr>\n",
       "      <th>3</th>\n",
       "      <td>Ааре</td>\n",
       "    </tr>\n",
       "    <tr>\n",
       "      <th>4</th>\n",
       "      <td>Аарон</td>\n",
       "    </tr>\n",
       "  </tbody>\n",
       "</table>\n",
       "</div>"
      ],
      "text/plain": [
       "       0\n",
       "0  Аалто\n",
       "1    ААР\n",
       "2   Аара\n",
       "3   Ааре\n",
       "4  Аарон"
      ]
     },
     "execution_count": 4,
     "metadata": {},
     "output_type": "execute_result"
    }
   ],
   "source": [
    "test.head()"
   ]
  },
  {
   "cell_type": "code",
   "execution_count": 5,
   "metadata": {
    "collapsed": true,
    "scrolled": true
   },
   "outputs": [],
   "source": [
    "data[0] = data[0].apply(clear)"
   ]
  },
  {
   "cell_type": "code",
   "execution_count": 6,
   "metadata": {},
   "outputs": [
    {
     "data": {
      "text/html": [
       "<div>\n",
       "<table border=\"1\" class=\"dataframe\">\n",
       "  <thead>\n",
       "    <tr style=\"text-align: right;\">\n",
       "      <th></th>\n",
       "      <th>0</th>\n",
       "      <th>1</th>\n",
       "    </tr>\n",
       "  </thead>\n",
       "  <tbody>\n",
       "    <tr>\n",
       "      <th>0</th>\n",
       "      <td>Аалтонен</td>\n",
       "      <td>1.0</td>\n",
       "    </tr>\n",
       "    <tr>\n",
       "      <th>1</th>\n",
       "      <td>Аар</td>\n",
       "      <td>0.0</td>\n",
       "    </tr>\n",
       "    <tr>\n",
       "      <th>2</th>\n",
       "      <td>Аарон</td>\n",
       "      <td>0.0</td>\n",
       "    </tr>\n",
       "    <tr>\n",
       "      <th>3</th>\n",
       "      <td>ААРОН</td>\n",
       "      <td>0.0</td>\n",
       "    </tr>\n",
       "    <tr>\n",
       "      <th>4</th>\n",
       "      <td>Аарона</td>\n",
       "      <td>0.0</td>\n",
       "    </tr>\n",
       "  </tbody>\n",
       "</table>\n",
       "</div>"
      ],
      "text/plain": [
       "          0    1\n",
       "0  Аалтонен  1.0\n",
       "1       Аар  0.0\n",
       "2     Аарон  0.0\n",
       "3     ААРОН  0.0\n",
       "4    Аарона  0.0"
      ]
     },
     "execution_count": 6,
     "metadata": {},
     "output_type": "execute_result"
    }
   ],
   "source": [
    "data.head()"
   ]
  },
  {
   "cell_type": "code",
   "execution_count": 7,
   "metadata": {
    "collapsed": true,
    "scrolled": true
   },
   "outputs": [],
   "source": [
    "def get_feature(data):\n",
    "    extra = data.apply(lambda s: 1. if s[0].isupper() else 0.)\n",
    "    return extra"
   ]
  },
  {
   "cell_type": "code",
   "execution_count": 19,
   "metadata": {
    "collapsed": true
   },
   "outputs": [],
   "source": [
    "Cs = [0.37, 0.4, 0.43, 0.47]"
   ]
  },
  {
   "cell_type": "code",
   "execution_count": 8,
   "metadata": {
    "collapsed": true
   },
   "outputs": [],
   "source": [
    "def caps_feature(data):\n",
    "    extra = data.apply(lambda s: 1. if s.strip().isupper() else 0.)\n",
    "    return extra"
   ]
  },
  {
   "cell_type": "code",
   "execution_count": 13,
   "metadata": {},
   "outputs": [
    {
     "name": "stdout",
     "output_type": "stream",
     "text": [
      "101408 188920\n"
     ]
    }
   ],
   "source": [
    "train_size = len(train)\n",
    "cv = CountVectorizer(ngram_range=(1, 6), lowercase=False, analyzer='char_wb')\n",
    "model_cv = cv.fit(data[0])\n",
    "X_train = data[0][data[1].notnull()]\n",
    "X_test = data[0][data[1].isnull()]\n",
    "print len(X_train), len(X_test)\n",
    "data_train = model_cv.transform(X_train)\n",
    "data_test = model_cv.transform(X_test)\n",
    "#tf = TfidfTransformer()\n",
    "#data_train = tf.fit_transform(data_train)\n",
    "#data_test = tf.fit_transform(data_test)\n",
    "new_train = ss.hstack((data_train, pd.DataFrame(get_feature(X_train)), pd.DataFrame(caps_feature(X_train))))\n",
    "new_test = ss.hstack((data_test, pd.DataFrame(get_feature(X_test)), pd.DataFrame(caps_feature(X_test))))"
   ]
  },
  {
   "cell_type": "code",
   "execution_count": 20,
   "metadata": {},
   "outputs": [
    {
     "name": "stdout",
     "output_type": "stream",
     "text": [
      "0.917252258\n",
      "0.91695555285\n",
      "0.917426648684\n",
      "0.917133827647\n"
     ]
    }
   ],
   "source": [
    "Cs = [0.35, 0.4, 0.45, 0.5]\n",
    "for C in Cs:\n",
    "    new_y_train = train[1]\n",
    "    model = linear_model.LogisticRegression(penalty='l2', solver='lbfgs', C=C)\n",
    "    print model_selection.cross_val_score(model, new_train, new_y_train, \n",
    "                                      scoring='roc_auc', cv=model_selection.StratifiedKFold(shuffle=True)).mean()"
   ]
  },
  {
   "cell_type": "code",
   "execution_count": 22,
   "metadata": {
    "collapsed": true
   },
   "outputs": [],
   "source": [
    "model = linear_model.LogisticRegression(penalty='l2', solver='lbfgs', C=0.4)\n",
    "model.fit(new_train, new_y_train)\n",
    "pred = model.predict_proba(new_test)[:, 0]\n",
    "ans = pd.DataFrame()\n",
    "ans[\"Id\"] = range(len(pred))\n",
    "ans[\"Answer\"] = pred\n",
    "ans.to_csv('submission.txt', sep=',', index=None)"
   ]
  },
  {
   "cell_type": "code",
   "execution_count": null,
   "metadata": {
    "collapsed": true
   },
   "outputs": [],
   "source": []
  }
 ],
 "metadata": {
  "kernelspec": {
   "display_name": "Python 2",
   "language": "python",
   "name": "python2"
  },
  "language_info": {
   "codemirror_mode": {
    "name": "ipython",
    "version": 2
   },
   "file_extension": ".py",
   "mimetype": "text/x-python",
   "name": "python",
   "nbconvert_exporter": "python",
   "pygments_lexer": "ipython2",
   "version": "2.7.13"
  }
 },
 "nbformat": 4,
 "nbformat_minor": 2
}
